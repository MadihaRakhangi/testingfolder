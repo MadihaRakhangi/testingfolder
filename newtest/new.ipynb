{
 "cells": [
  {
   "cell_type": "code",
   "execution_count": 1,
   "metadata": {},
   "outputs": [
    {
     "name": "stdout",
     "output_type": "stream",
     "text": [
      "  loc_id\\tno_poles\\tnom_cir_vlt\\tcond_type\\tcond_size\\tno_runs\\tins_type\\tcond_len\\ttype_supply\\tearth_config\\ttype_cir_loc\\tno_phases\\tb_curve_type\\tup_b_sen\\tspd_applicable\\tmeas_term\\ttest_vlt\\tleak_cap_nf\\tins_res_mohm\\tresult_ir\\tdistance_prev_loc\\tnom_vlt_e_v\\tapp_test_vlt\\tmeas_out_curr_ma\\tres_kohm\\tresult_fwr\\trc_route_ele_1\\trc_route_ele_2\\tcond_temp\\tcont_found\\tlead_int_res\\tcon_res\\tcorr_cont_res\\tspec_cond_res\\tresult_rc\\tresult_remarks_rc\\top_l1_l2_v\\top_l2_l3_v\\top_l3_l1_v\\top_l1_n_v\\top_l2_n_v\\top_l3_n_v\\tphase_seq\\tresult_op\\tvd_route_ele_1\\tvd_route_ele_2\\tele_1_l_n_v\\tele_2_l_n_v\\ttype_install_supply\\tpur_supply\\tvlt_drop_v\\tvlt_drop_perc\\tresult_vd\\tpt_device_type\\tl_n_v\\tpol_ref\\tpol\\ttype_earth_sys\\tnom_l_e_v\\tnom_curr_rating\\trated_res_op_curr\\tappl_type\\ttrip_curve_type\\ttest_curr_ma\\ttrip_curr_ma\\ttrip_time\\tdevice_trip\\tresult_rcd\\tno_eecp\\tea\\ttype_earthing\\tdepth_iee\\td_nee\\tmeri\\tceri\\telec_dis_ratio\\tresult_epe\\trated_line_vlt\\ttps_l1_l2_v\\ttps_l2_l3_v\\ttps_l3_l1_v\\ttps_l1_n_v\\ttps_l2_n_v\\ttps_l3_n_v\\tavg_line_vlt\\tavg_ph_vlt\\tvlt_unb\\tresult_tps_vlt\\trated_ph_curr\\ttps_curr_l1\\ttps_curr_l2\\ttps_curr_l3\\tavg_ph_curr\\tcurr_unb\\tresult_tps_curr\\tvlt_nev\\tresult_tps_nev\\tzero_sum_curr\\tresult_tps_zs\\tresult_remarks_tps\\telicb_device_make\\telicb_device_type\\tdevice_sen\\telicb_device_rating\\teli_tms\\telicb_mvln\\telicb_mvle\\telicb_mvne\\telicb_mel1\\telicb_mel2\\telicb_mel3\\telicb_psc\\telicb_max_eli\\tresult_elicb\\tsoc_ar\\tsoc_type\\tup_b_name\\tup_b_make\\tup_b_type\\tup_b_tms\\telis_mvln\\telis_mvle\\telis_mvne\\telis_mel1\\telis_mel2\\telis_mel3\\telis_psc\\telis_max_eli\\tresult_elis\\tfo_device_type\\tfunc_check\\tinter_check\\tresult_fo\\tresult_remark_fo\\tpat_device_id\\tpat_dev_name\\tpat_location\\tpat_vlt_rating\\tpat_fuse_rating\\tpat_vi\\tpat_ec\\tpat_ir\\tpat_pt\\tpat_leak\\tpat_func_check\\tresult_pat\\tstatus\\tcreate_timestamp\\tcreate_user\\tedit_timestamp\\tedit_user\n",
      "0  4\\tsingle\\t230\\tCopper\\t6\\t1\\tPVC\\t10\\tAC\\tTNC...                                                                                                                                                                                                                                                                                                                                                                                                                                                                                                                                                                                                                                                                                                                                                                                                                                                                                                                                                                                                                                                                                                                                                                                                                                                                                                                                                                                                                                                                                                                                                                                                                                                                                                                                                                                                                                                                                                                            \n",
      "1  10\\tsingle\\t230\\tAluminium\\t4\\t2\\tXLPE\\t\\tDC\\t...                                                                                                                                                                                                                                                                                                                                                                                                                                                                                                                                                                                                                                                                                                                                                                                                                                                                                                                                                                                                                                                                                                                                                                                                                                                                                                                                                                                                                                                                                                                                                                                                                                                                                                                                                                                                                                                                                                                            \n",
      "2  6\\t\\t230\\tCopper\\t16\\t2\\tXLPE\\t10\\tAC\\tTNS\\tFi...                                                                                                                                                                                                                                                                                                                                                                                                                                                                                                                                                                                                                                                                                                                                                                                                                                                                                                                                                                                                                                                                                                                                                                                                                                                                                                                                                                                                                                                                                                                                                                                                                                                                                                                                                                                                                                                                                                                            \n"
     ]
    }
   ],
   "source": []
  },
  {
   "cell_type": "code",
   "execution_count": 5,
   "metadata": {},
   "outputs": [
    {
     "ename": "KeyError",
     "evalue": "\"None of [Index(['loc_id', 'op_l1_l2_v', 'op_l2_l3_v', 'op_l3_l1_v', 'op_l1_n_v',\\n       'op_l2_n_v', 'op_l3_n_v', 'phase_seq'],\\n      dtype='object')] are in the [columns]\"",
     "output_type": "error",
     "traceback": [
      "\u001b[1;31m---------------------------------------------------------------------------\u001b[0m",
      "\u001b[1;31mKeyError\u001b[0m                                  Traceback (most recent call last)",
      "Cell \u001b[1;32mIn[5], line 1\u001b[0m\n\u001b[1;32m----> 1\u001b[0m phs_seq\u001b[39m=\u001b[39maf[\n\u001b[0;32m      2\u001b[0m     [\n\u001b[0;32m      3\u001b[0m         \u001b[39m\"\u001b[39;49m\u001b[39mloc_id\u001b[39;49m\u001b[39m\"\u001b[39;49m,\n\u001b[0;32m      4\u001b[0m         \u001b[39m\"\u001b[39;49m\u001b[39mop_l1_l2_v\u001b[39;49m\u001b[39m\"\u001b[39;49m,\n\u001b[0;32m      5\u001b[0m         \u001b[39m\"\u001b[39;49m\u001b[39mop_l2_l3_v\u001b[39;49m\u001b[39m\"\u001b[39;49m,\n\u001b[0;32m      6\u001b[0m         \u001b[39m\"\u001b[39;49m\u001b[39mop_l3_l1_v\u001b[39;49m\u001b[39m\"\u001b[39;49m,\n\u001b[0;32m      7\u001b[0m         \u001b[39m\"\u001b[39;49m\u001b[39mop_l1_n_v\u001b[39;49m\u001b[39m\"\u001b[39;49m,\n\u001b[0;32m      8\u001b[0m         \u001b[39m\"\u001b[39;49m\u001b[39mop_l2_n_v\u001b[39;49m\u001b[39m\"\u001b[39;49m,\n\u001b[0;32m      9\u001b[0m         \u001b[39m\"\u001b[39;49m\u001b[39mop_l3_n_v\u001b[39;49m\u001b[39m\"\u001b[39;49m,\n\u001b[0;32m     10\u001b[0m         \u001b[39m\"\u001b[39;49m\u001b[39mphase_seq\u001b[39;49m\u001b[39m\"\u001b[39;49m,\n\u001b[0;32m     11\u001b[0m     ]\n\u001b[0;32m     12\u001b[0m ]\n\u001b[0;32m     13\u001b[0m \u001b[39mprint\u001b[39m (phs_seq)\n",
      "File \u001b[1;32mc:\\Users\\hp\\AppData\\Local\\Programs\\Python\\Python39\\lib\\site-packages\\pandas\\core\\frame.py:3767\u001b[0m, in \u001b[0;36mDataFrame.__getitem__\u001b[1;34m(self, key)\u001b[0m\n\u001b[0;32m   3765\u001b[0m     \u001b[39mif\u001b[39;00m is_iterator(key):\n\u001b[0;32m   3766\u001b[0m         key \u001b[39m=\u001b[39m \u001b[39mlist\u001b[39m(key)\n\u001b[1;32m-> 3767\u001b[0m     indexer \u001b[39m=\u001b[39m \u001b[39mself\u001b[39;49m\u001b[39m.\u001b[39;49mcolumns\u001b[39m.\u001b[39;49m_get_indexer_strict(key, \u001b[39m\"\u001b[39;49m\u001b[39mcolumns\u001b[39;49m\u001b[39m\"\u001b[39;49m)[\u001b[39m1\u001b[39m]\n\u001b[0;32m   3769\u001b[0m \u001b[39m# take() does not accept boolean indexers\u001b[39;00m\n\u001b[0;32m   3770\u001b[0m \u001b[39mif\u001b[39;00m \u001b[39mgetattr\u001b[39m(indexer, \u001b[39m\"\u001b[39m\u001b[39mdtype\u001b[39m\u001b[39m\"\u001b[39m, \u001b[39mNone\u001b[39;00m) \u001b[39m==\u001b[39m \u001b[39mbool\u001b[39m:\n",
      "File \u001b[1;32mc:\\Users\\hp\\AppData\\Local\\Programs\\Python\\Python39\\lib\\site-packages\\pandas\\core\\indexes\\base.py:5876\u001b[0m, in \u001b[0;36mIndex._get_indexer_strict\u001b[1;34m(self, key, axis_name)\u001b[0m\n\u001b[0;32m   5873\u001b[0m \u001b[39melse\u001b[39;00m:\n\u001b[0;32m   5874\u001b[0m     keyarr, indexer, new_indexer \u001b[39m=\u001b[39m \u001b[39mself\u001b[39m\u001b[39m.\u001b[39m_reindex_non_unique(keyarr)\n\u001b[1;32m-> 5876\u001b[0m \u001b[39mself\u001b[39;49m\u001b[39m.\u001b[39;49m_raise_if_missing(keyarr, indexer, axis_name)\n\u001b[0;32m   5878\u001b[0m keyarr \u001b[39m=\u001b[39m \u001b[39mself\u001b[39m\u001b[39m.\u001b[39mtake(indexer)\n\u001b[0;32m   5879\u001b[0m \u001b[39mif\u001b[39;00m \u001b[39misinstance\u001b[39m(key, Index):\n\u001b[0;32m   5880\u001b[0m     \u001b[39m# GH 42790 - Preserve name from an Index\u001b[39;00m\n",
      "File \u001b[1;32mc:\\Users\\hp\\AppData\\Local\\Programs\\Python\\Python39\\lib\\site-packages\\pandas\\core\\indexes\\base.py:5935\u001b[0m, in \u001b[0;36mIndex._raise_if_missing\u001b[1;34m(self, key, indexer, axis_name)\u001b[0m\n\u001b[0;32m   5933\u001b[0m     \u001b[39mif\u001b[39;00m use_interval_msg:\n\u001b[0;32m   5934\u001b[0m         key \u001b[39m=\u001b[39m \u001b[39mlist\u001b[39m(key)\n\u001b[1;32m-> 5935\u001b[0m     \u001b[39mraise\u001b[39;00m \u001b[39mKeyError\u001b[39;00m(\u001b[39mf\u001b[39m\u001b[39m\"\u001b[39m\u001b[39mNone of [\u001b[39m\u001b[39m{\u001b[39;00mkey\u001b[39m}\u001b[39;00m\u001b[39m] are in the [\u001b[39m\u001b[39m{\u001b[39;00maxis_name\u001b[39m}\u001b[39;00m\u001b[39m]\u001b[39m\u001b[39m\"\u001b[39m)\n\u001b[0;32m   5937\u001b[0m not_found \u001b[39m=\u001b[39m \u001b[39mlist\u001b[39m(ensure_index(key)[missing_mask\u001b[39m.\u001b[39mnonzero()[\u001b[39m0\u001b[39m]]\u001b[39m.\u001b[39munique())\n\u001b[0;32m   5938\u001b[0m \u001b[39mraise\u001b[39;00m \u001b[39mKeyError\u001b[39;00m(\u001b[39mf\u001b[39m\u001b[39m\"\u001b[39m\u001b[39m{\u001b[39;00mnot_found\u001b[39m}\u001b[39;00m\u001b[39m not in index\u001b[39m\u001b[39m\"\u001b[39m)\n",
      "\u001b[1;31mKeyError\u001b[0m: \"None of [Index(['loc_id', 'op_l1_l2_v', 'op_l2_l3_v', 'op_l3_l1_v', 'op_l1_n_v',\\n       'op_l2_n_v', 'op_l3_n_v', 'phase_seq'],\\n      dtype='object')] are in the [columns]\""
     ]
    }
   ],
   "source": [
    "\n",
    "phs_seq=af[\n",
    "    [\n",
    "        \"loc_id\",\n",
    "        \"op_l1_l2_v\",\n",
    "        \"op_l2_l3_v\",\n",
    "        \"op_l3_l1_v\",\n",
    "        \"op_l1_n_v\",\n",
    "        \"op_l2_n_v\",\n",
    "        \"op_l3_n_v\",\n",
    "        \"phase_seq\",\n",
    "    ]\n",
    "]\n",
    "print (phs_seq)"
   ]
  },
  {
   "cell_type": "code",
   "execution_count": 6,
   "metadata": {},
   "outputs": [
    {
     "ename": "KeyError",
     "evalue": "\"None of [Index(['loc_id', 'op_l1_l2_v', 'op_l2_l3_v', 'op_l3_l1_v', 'op_l1_n_v',\\n       'op_l2_n_v', 'op_l3_n_v', 'phase_seq'],\\n      dtype='object')] are in the [columns]\"",
     "output_type": "error",
     "traceback": [
      "\u001b[1;31m---------------------------------------------------------------------------\u001b[0m",
      "\u001b[1;31mKeyError\u001b[0m                                  Traceback (most recent call last)",
      "Cell \u001b[1;32mIn[6], line 7\u001b[0m\n\u001b[0;32m      4\u001b[0m af \u001b[39m=\u001b[39m pd\u001b[39m.\u001b[39mread_csv(\u001b[39m\"\u001b[39m\u001b[39mfinal.csv\u001b[39m\u001b[39m\"\u001b[39m)\n\u001b[0;32m      6\u001b[0m \u001b[39m# Select specific columns and create a new DataFrame\u001b[39;00m\n\u001b[1;32m----> 7\u001b[0m phs_seq \u001b[39m=\u001b[39m af[\n\u001b[0;32m      8\u001b[0m     [\n\u001b[0;32m      9\u001b[0m         \u001b[39m\"\u001b[39;49m\u001b[39mloc_id\u001b[39;49m\u001b[39m\"\u001b[39;49m,\n\u001b[0;32m     10\u001b[0m         \u001b[39m\"\u001b[39;49m\u001b[39mop_l1_l2_v\u001b[39;49m\u001b[39m\"\u001b[39;49m,\n\u001b[0;32m     11\u001b[0m         \u001b[39m\"\u001b[39;49m\u001b[39mop_l2_l3_v\u001b[39;49m\u001b[39m\"\u001b[39;49m,\n\u001b[0;32m     12\u001b[0m         \u001b[39m\"\u001b[39;49m\u001b[39mop_l3_l1_v\u001b[39;49m\u001b[39m\"\u001b[39;49m,\n\u001b[0;32m     13\u001b[0m         \u001b[39m\"\u001b[39;49m\u001b[39mop_l1_n_v\u001b[39;49m\u001b[39m\"\u001b[39;49m,\n\u001b[0;32m     14\u001b[0m         \u001b[39m\"\u001b[39;49m\u001b[39mop_l2_n_v\u001b[39;49m\u001b[39m\"\u001b[39;49m,\n\u001b[0;32m     15\u001b[0m         \u001b[39m\"\u001b[39;49m\u001b[39mop_l3_n_v\u001b[39;49m\u001b[39m\"\u001b[39;49m,\n\u001b[0;32m     16\u001b[0m         \u001b[39m\"\u001b[39;49m\u001b[39mphase_seq\u001b[39;49m\u001b[39m\"\u001b[39;49m,\n\u001b[0;32m     17\u001b[0m     ]\n\u001b[0;32m     18\u001b[0m ]\n\u001b[0;32m     20\u001b[0m \u001b[39m# Print the new DataFrame\u001b[39;00m\n\u001b[0;32m     21\u001b[0m \u001b[39mprint\u001b[39m(phs_seq)\n",
      "File \u001b[1;32mc:\\Users\\hp\\AppData\\Local\\Programs\\Python\\Python39\\lib\\site-packages\\pandas\\core\\frame.py:3767\u001b[0m, in \u001b[0;36mDataFrame.__getitem__\u001b[1;34m(self, key)\u001b[0m\n\u001b[0;32m   3765\u001b[0m     \u001b[39mif\u001b[39;00m is_iterator(key):\n\u001b[0;32m   3766\u001b[0m         key \u001b[39m=\u001b[39m \u001b[39mlist\u001b[39m(key)\n\u001b[1;32m-> 3767\u001b[0m     indexer \u001b[39m=\u001b[39m \u001b[39mself\u001b[39;49m\u001b[39m.\u001b[39;49mcolumns\u001b[39m.\u001b[39;49m_get_indexer_strict(key, \u001b[39m\"\u001b[39;49m\u001b[39mcolumns\u001b[39;49m\u001b[39m\"\u001b[39;49m)[\u001b[39m1\u001b[39m]\n\u001b[0;32m   3769\u001b[0m \u001b[39m# take() does not accept boolean indexers\u001b[39;00m\n\u001b[0;32m   3770\u001b[0m \u001b[39mif\u001b[39;00m \u001b[39mgetattr\u001b[39m(indexer, \u001b[39m\"\u001b[39m\u001b[39mdtype\u001b[39m\u001b[39m\"\u001b[39m, \u001b[39mNone\u001b[39;00m) \u001b[39m==\u001b[39m \u001b[39mbool\u001b[39m:\n",
      "File \u001b[1;32mc:\\Users\\hp\\AppData\\Local\\Programs\\Python\\Python39\\lib\\site-packages\\pandas\\core\\indexes\\base.py:5876\u001b[0m, in \u001b[0;36mIndex._get_indexer_strict\u001b[1;34m(self, key, axis_name)\u001b[0m\n\u001b[0;32m   5873\u001b[0m \u001b[39melse\u001b[39;00m:\n\u001b[0;32m   5874\u001b[0m     keyarr, indexer, new_indexer \u001b[39m=\u001b[39m \u001b[39mself\u001b[39m\u001b[39m.\u001b[39m_reindex_non_unique(keyarr)\n\u001b[1;32m-> 5876\u001b[0m \u001b[39mself\u001b[39;49m\u001b[39m.\u001b[39;49m_raise_if_missing(keyarr, indexer, axis_name)\n\u001b[0;32m   5878\u001b[0m keyarr \u001b[39m=\u001b[39m \u001b[39mself\u001b[39m\u001b[39m.\u001b[39mtake(indexer)\n\u001b[0;32m   5879\u001b[0m \u001b[39mif\u001b[39;00m \u001b[39misinstance\u001b[39m(key, Index):\n\u001b[0;32m   5880\u001b[0m     \u001b[39m# GH 42790 - Preserve name from an Index\u001b[39;00m\n",
      "File \u001b[1;32mc:\\Users\\hp\\AppData\\Local\\Programs\\Python\\Python39\\lib\\site-packages\\pandas\\core\\indexes\\base.py:5935\u001b[0m, in \u001b[0;36mIndex._raise_if_missing\u001b[1;34m(self, key, indexer, axis_name)\u001b[0m\n\u001b[0;32m   5933\u001b[0m     \u001b[39mif\u001b[39;00m use_interval_msg:\n\u001b[0;32m   5934\u001b[0m         key \u001b[39m=\u001b[39m \u001b[39mlist\u001b[39m(key)\n\u001b[1;32m-> 5935\u001b[0m     \u001b[39mraise\u001b[39;00m \u001b[39mKeyError\u001b[39;00m(\u001b[39mf\u001b[39m\u001b[39m\"\u001b[39m\u001b[39mNone of [\u001b[39m\u001b[39m{\u001b[39;00mkey\u001b[39m}\u001b[39;00m\u001b[39m] are in the [\u001b[39m\u001b[39m{\u001b[39;00maxis_name\u001b[39m}\u001b[39;00m\u001b[39m]\u001b[39m\u001b[39m\"\u001b[39m)\n\u001b[0;32m   5937\u001b[0m not_found \u001b[39m=\u001b[39m \u001b[39mlist\u001b[39m(ensure_index(key)[missing_mask\u001b[39m.\u001b[39mnonzero()[\u001b[39m0\u001b[39m]]\u001b[39m.\u001b[39munique())\n\u001b[0;32m   5938\u001b[0m \u001b[39mraise\u001b[39;00m \u001b[39mKeyError\u001b[39;00m(\u001b[39mf\u001b[39m\u001b[39m\"\u001b[39m\u001b[39m{\u001b[39;00mnot_found\u001b[39m}\u001b[39;00m\u001b[39m not in index\u001b[39m\u001b[39m\"\u001b[39m)\n",
      "\u001b[1;31mKeyError\u001b[0m: \"None of [Index(['loc_id', 'op_l1_l2_v', 'op_l2_l3_v', 'op_l3_l1_v', 'op_l1_n_v',\\n       'op_l2_n_v', 'op_l3_n_v', 'phase_seq'],\\n      dtype='object')] are in the [columns]\""
     ]
    }
   ],
   "source": [
    "import pandas as pd\n",
    "\n",
    "# Read the CSV file into a DataFrame\n",
    "af = pd.read_csv(\"final.csv\")\n",
    "\n",
    "# Select specific columns and create a new DataFrame\n",
    "phs_seq = af[\n",
    "    [\n",
    "        \"loc_id\",\n",
    "        \"op_l1_l2_v\",\n",
    "        \"op_l2_l3_v\",\n",
    "        \"op_l3_l1_v\",\n",
    "        \"op_l1_n_v\",\n",
    "        \"op_l2_n_v\",\n",
    "        \"op_l3_n_v\",\n",
    "        \"phase_seq\",\n",
    "    ]\n",
    "]\n",
    "\n",
    "# Print the new DataFrame\n",
    "print(phs_seq)\n"
   ]
  },
  {
   "cell_type": "code",
   "execution_count": 7,
   "metadata": {},
   "outputs": [
    {
     "name": "stdout",
     "output_type": "stream",
     "text": [
      "Index(['loc_id\\tno_poles\\tnom_cir_vlt\\tcond_type\\tcond_size\\tno_runs\\tins_type\\tcond_len\\ttype_supply\\tearth_config\\ttype_cir_loc\\tno_phases\\tb_curve_type\\tup_b_sen\\tspd_applicable\\tmeas_term\\ttest_vlt\\tleak_cap_nf\\tins_res_mohm\\tresult_ir\\tdistance_prev_loc\\tnom_vlt_e_v\\tapp_test_vlt\\tmeas_out_curr_ma\\tres_kohm\\tresult_fwr\\trc_route_ele_1\\trc_route_ele_2\\tcond_temp\\tcont_found\\tlead_int_res\\tcon_res\\tcorr_cont_res\\tspec_cond_res\\tresult_rc\\tresult_remarks_rc\\top_l1_l2_v\\top_l2_l3_v\\top_l3_l1_v\\top_l1_n_v\\top_l2_n_v\\top_l3_n_v\\tphase_seq\\tresult_op\\tvd_route_ele_1\\tvd_route_ele_2\\tele_1_l_n_v\\tele_2_l_n_v\\ttype_install_supply\\tpur_supply\\tvlt_drop_v\\tvlt_drop_perc\\tresult_vd\\tpt_device_type\\tl_n_v\\tpol_ref\\tpol\\ttype_earth_sys\\tnom_l_e_v\\tnom_curr_rating\\trated_res_op_curr\\tappl_type\\ttrip_curve_type\\ttest_curr_ma\\ttrip_curr_ma\\ttrip_time\\tdevice_trip\\tresult_rcd\\tno_eecp\\tea\\ttype_earthing\\tdepth_iee\\td_nee\\tmeri\\tceri\\telec_dis_ratio\\tresult_epe\\trated_line_vlt\\ttps_l1_l2_v\\ttps_l2_l3_v\\ttps_l3_l1_v\\ttps_l1_n_v\\ttps_l2_n_v\\ttps_l3_n_v\\tavg_line_vlt\\tavg_ph_vlt\\tvlt_unb\\tresult_tps_vlt\\trated_ph_curr\\ttps_curr_l1\\ttps_curr_l2\\ttps_curr_l3\\tavg_ph_curr\\tcurr_unb\\tresult_tps_curr\\tvlt_nev\\tresult_tps_nev\\tzero_sum_curr\\tresult_tps_zs\\tresult_remarks_tps\\telicb_device_make\\telicb_device_type\\tdevice_sen\\telicb_device_rating\\teli_tms\\telicb_mvln\\telicb_mvle\\telicb_mvne\\telicb_mel1\\telicb_mel2\\telicb_mel3\\telicb_psc\\telicb_max_eli\\tresult_elicb\\tsoc_ar\\tsoc_type\\tup_b_name\\tup_b_make\\tup_b_type\\tup_b_tms\\telis_mvln\\telis_mvle\\telis_mvne\\telis_mel1\\telis_mel2\\telis_mel3\\telis_psc\\telis_max_eli\\tresult_elis\\tfo_device_type\\tfunc_check\\tinter_check\\tresult_fo\\tresult_remark_fo\\tpat_device_id\\tpat_dev_name\\tpat_location\\tpat_vlt_rating\\tpat_fuse_rating\\tpat_vi\\tpat_ec\\tpat_ir\\tpat_pt\\tpat_leak\\tpat_func_check\\tresult_pat\\tstatus\\tcreate_timestamp\\tcreate_user\\tedit_timestamp\\tedit_user'], dtype='object')\n"
     ]
    }
   ],
   "source": [
    "import pandas as pd\n",
    "\n",
    "af = pd.read_csv(\"final.csv\")\n",
    "print(af.columns)\n"
   ]
  },
  {
   "cell_type": "code",
   "execution_count": 3,
   "metadata": {},
   "outputs": [
    {
     "name": "stdout",
     "output_type": "stream",
     "text": [
      "   loc_id  op_l1_l2_v  op_l2_l3_v  op_l3_l1_v  op_l1_n_v  op_l2_n_v  \\\n",
      "0       4       420.0       417.0       419.0      242.0      241.0   \n",
      "1      10       421.0       418.0       420.0      242.0      240.0   \n",
      "2       6         NaN         NaN         NaN        NaN        NaN   \n",
      "\n",
      "   op_l3_n_v phase_seq  \n",
      "0      242.0       RBY  \n",
      "1      239.0       RYB  \n",
      "2        NaN       NaN  \n"
     ]
    }
   ],
   "source": [
    "import pandas as pd\n",
    "\n",
    "af = pd.read_csv(\"main.csv\")\n",
    "# af.columns = af.columns.str.strip()  # Remove leading/trailing whitespaces from column names\n",
    "\n",
    "phs_seq = af[\n",
    "    [\n",
    "        \"loc_id\",\n",
    "        \"op_l1_l2_v\",\n",
    "        \"op_l2_l3_v\",\n",
    "        \"op_l3_l1_v\",\n",
    "        \"op_l1_n_v\",\n",
    "        \"op_l2_n_v\",\n",
    "        \"op_l3_n_v\",\n",
    "        \"phase_seq\",\n",
    "    ]\n",
    "]\n",
    "\n",
    "print(phs_seq)\n"
   ]
  },
  {
   "cell_type": "code",
   "execution_count": 5,
   "metadata": {},
   "outputs": [
    {
     "ename": "ModuleNotFoundError",
     "evalue": "No module named 'docx'",
     "output_type": "error",
     "traceback": [
      "\u001b[1;31m---------------------------------------------------------------------------\u001b[0m",
      "\u001b[1;31mModuleNotFoundError\u001b[0m                       Traceback (most recent call last)",
      "Cell \u001b[1;32mIn[5], line 3\u001b[0m\n\u001b[0;32m      1\u001b[0m \u001b[39mimport\u001b[39;00m \u001b[39mpandas\u001b[39;00m \u001b[39mas\u001b[39;00m \u001b[39mpd\u001b[39;00m\n\u001b[0;32m      2\u001b[0m \u001b[39mimport\u001b[39;00m \u001b[39mmatplotlib\u001b[39;00m\u001b[39m.\u001b[39;00m\u001b[39mpyplot\u001b[39;00m \u001b[39mas\u001b[39;00m \u001b[39mplt\u001b[39;00m\n\u001b[1;32m----> 3\u001b[0m \u001b[39mimport\u001b[39;00m \u001b[39mdocx\u001b[39;00m\n\u001b[0;32m      4\u001b[0m \u001b[39mfrom\u001b[39;00m \u001b[39mdocx\u001b[39;00m \u001b[39mimport\u001b[39;00m Document\n\u001b[0;32m      5\u001b[0m \u001b[39mimport\u001b[39;00m \u001b[39mcsv\u001b[39;00m\n",
      "\u001b[1;31mModuleNotFoundError\u001b[0m: No module named 'docx'"
     ]
    }
   ],
   "source": []
  },
  {
   "cell_type": "code",
   "execution_count": 13,
   "metadata": {},
   "outputs": [
    {
     "name": "stdout",
     "output_type": "stream",
     "text": [
      "   id\\tuuid\\tloc_code\\tloc_name\\tproject_id\\tproject_uuid\\tloc_type_id\\tparent_id\\tparent_uuid\\tpath\\tstatus\\tcreate_timestamp\\tcreate_user\\tedit_timestamp\\tedit_user\n",
      "0   1\\t\\tsite_000001\\tABC Technologies\\t1\\t\\t1\\t\\t...                                                                                                                 \n",
      "1   2\\t\\tpanel_room_000001\\tLT Panel Room\\t1\\t\\t2\\...                                                                                                                 \n",
      "2   3\\t\\tfeeder_000001\\tFeeder 2\\t1\\t\\t10\\t2\\t\\t\\t...                                                                                                                 \n",
      "3     4\\t\\tmcb_000001\\tMCB 1\\t1\\t\\t7\\t3\\t\\t\\t\\t\\t\\t\\t                                                                                                                 \n",
      "4   5\\t\\tpanel_000001\\tMLTP 1\\t1\\t\\t5\\t2\\t\\t\\t\\t\\t...                                                                                                                 \n",
      "5   6\\t\\tacb_000001\\tMain ACB\\t1\\t\\t8\\t5\\t\\t\\t\\t\\t...                                                                                                                 \n",
      "6   7\\t\\tfwr_route_000001\\tMain Floor Point 1\\t1\\t...                                                                                                                 \n",
      "7   8\\t\\tworkshop_area_000001\\tWorkshop MCC\\t1\\t\\t...                                                                                                                 \n",
      "8   9\\t\\tfeeder_000002\\tFeeder 3\\t1\\t\\t10\\t8\\t\\t\\t...                                                                                                                 \n",
      "9    10\\t\\tmcb_000002\\tMCB 4\\t1\\t\\t7\\t9\\t\\t\\t\\t\\t\\t\\t                                                                                                                 \n",
      "10  11\\t\\tworkshop_area_000002\\tWorkshop Area\\t1\\t...                                                                                                                 \n",
      "11      12\\t\\tdb_000001\\tDB\\t1\\t\\t6\\t11\\t\\t\\t\\t\\t\\t\\t                                                                                                                 \n",
      "12  13\\t\\trccb_000001\\tRCCB 1\\t1\\t\\t12\\t12\\t\\t\\t\\t...                                                                                                                 \n",
      "13  14\\t\\tport_app_000001\\tHand Drill\\t1\\t\\t13\\t11...                                                                                                                 \n",
      "14  15\\t\\toffice_area_000001\\tOffice Area\\t1\\t\\t14...                                                                                                                 \n",
      "15   16\\t\\tpdu_000001\\tPDU\\t1\\t\\t15\\t15\\t\\t\\t\\t\\t\\t\\t                                                                                                                 \n",
      "16  17\\t\\tsocket_000001\\tSocket 4\\t1\\t\\t16\\t16\\t\\t...                                                                                                                 \n",
      "17  18\\t\\tearth_pit_000001\\tEarth Pit 1\\t1\\t\\t17\\t...                                                                                                                 \n",
      "18  19\\t\\tcontrol_room_000001\\tControl Room\\t1\\t\\t...                                                                                                                 \n",
      "19  20\\t\\tpanel_000002\\tPanel 1\\t1\\t\\t5\\t19\\t\\t\\t\\...                                                                                                                 \n",
      "20  21\\t\\tstarter_000001\\tStarter 1\\t1\\t\\t19\\t20\\t...                                                                                                                 \n"
     ]
    }
   ],
   "source": [
    "import pandas as pd\n",
    "\n",
    "A=\"location.csv\"\n",
    "af=pd.read_csv(\"location.csv\")\n",
    "B=\"final.csv\"\n",
    "bf= pd.read_csv(\"final.csv\")\n",
    "C=\"id.csv\"\n",
    "cf= pd.read_csv(\"id.csv\")\n",
    "\n",
    "\n",
    "print (af)"
   ]
  },
  {
   "cell_type": "code",
   "execution_count": 14,
   "metadata": {},
   "outputs": [],
   "source": [
    "def result(loc_id,id,loc_name,parent_id,type,name):\n",
    "    if loc_id ==  4 and id ==4:\n",
    "        print(loc_name)\n",
    "    else:\n",
    "        print(\"error\")"
   ]
  },
  {
   "cell_type": "code",
   "execution_count": 23,
   "metadata": {},
   "outputs": [
    {
     "name": "stdout",
     "output_type": "stream",
     "text": [
      "Location DataFrame columns: Index(['id\\tuuid\\tloc_code\\tloc_name\\tproject_id\\tproject_uuid\\tloc_type_id\\tparent_id\\tparent_uuid\\tpath\\tstatus\\tcreate_timestamp\\tcreate_user\\tedit_timestamp\\tedit_user'], dtype='object')\n",
      "Final DataFrame columns: Index(['loc_id', 'no_poles', 'nom_cir_vlt', 'cond_type', 'cond_size',\n",
      "       'no_runs', 'ins_type', 'cond_len', 'type_supply', 'earth_config',\n",
      "       ...\n",
      "       'pat_ir', 'pat_pt', 'pat_leak', 'pat_func_check', 'result_pat',\n",
      "       'status', 'create_timestamp', 'create_user', 'edit_timestamp',\n",
      "       'edit_user'],\n",
      "      dtype='object', length=151)\n",
      "ID DataFrame columns: Index(['id\\ttype\\tname\\tcode\\tstatus\\tcreate_timestamp\\tedit_timestamp\\tcreate_user_id\\tedit_user_id'], dtype='object')\n",
      "KeyError occurred. Column not found: 'id'\n"
     ]
    }
   ],
   "source": [
    "import pandas as pd\n",
    "\n",
    "location_file = \"location.csv\"\n",
    "final_file = \"final.csv\"\n",
    "id_file = \"id.csv\"\n",
    "\n",
    "# Read the CSV files\n",
    "location_df = pd.read_csv(location_file)\n",
    "final_df = pd.read_csv(final_file)\n",
    "id_df = pd.read_csv(id_file)\n",
    "\n",
    "# Print column names of each dataframe\n",
    "print(\"Location DataFrame columns:\", location_df.columns)\n",
    "print(\"Final DataFrame columns:\", final_df.columns)\n",
    "print(\"ID DataFrame columns:\", id_df.columns)\n",
    "\n",
    "try:\n",
    "    # Merge the dataframes\n",
    "    merged_df = pd.merge(final_df, location_df, left_on='loc_id', right_on='id', how='left')\n",
    "    merged_df = pd.merge(merged_df, id_df, left_on='parent_id', right_on='id', how='left')\n",
    "\n",
    "    # Select the desired columns\n",
    "    selected_columns = [\n",
    "        'loc_id',\n",
    "        'id',\n",
    "        'loc_name',\n",
    "        'parent_id',\n",
    "        'type',\n",
    "        'name',\n",
    "    ]\n",
    "    final_data = merged_df[selected_columns]\n",
    "\n",
    "    # Print the final result\n",
    "    print(final_data)\n",
    "\n",
    "except KeyError as e:\n",
    "    print(\"KeyError occurred. Column not found:\", str(e))\n"
   ]
  },
  {
   "cell_type": "code",
   "execution_count": 37,
   "metadata": {},
   "outputs": [
    {
     "name": "stdout",
     "output_type": "stream",
     "text": [
      "[]\n"
     ]
    }
   ],
   "source": [
    "import pandas as pd\n",
    "\n",
    "af = pd.read_csv(\"final.csv\")\n",
    "bf = pd.read_csv(\"location.csv\")\n",
    "cf = pd.read_csv(\"id.csv\")\n",
    "bf_columns = [\"id\", \"loc_name\", \"parent_id\"]\n",
    "cf_columns = [\"type\", \"name\"]\n",
    "df1 = bf[bf_columns]\n",
    "df2 = cf[cf_columns]\n",
    "merged_df = pd.concat([df1, df2], axis=1)\n",
    "merged_df.to_csv(\"merged.csv\", index=False)\n",
    "\n",
    "facility_area = []\n",
    "parent_location = []\n",
    "location = []\n",
    "\n",
    "df = pd.read_csv(\"merged.csv\")\n",
    "\n",
    "def result(af, df):\n",
    "    if (af[\"loc_id\"] == \"4\").any():\n",
    "        if af[\"id\"] == af[\"loc_id\"]:\n",
    "            location.append(5)\n",
    "        else:\n",
    "            location.append(\"NA\")\n",
    "\n",
    "result(af, df)\n",
    "print(location)\n"
   ]
  },
  {
   "cell_type": "code",
   "execution_count": 48,
   "metadata": {},
   "outputs": [
    {
     "ename": "ValueError",
     "evalue": "The truth value of a Series is ambiguous. Use a.empty, a.bool(), a.item(), a.any() or a.all().",
     "output_type": "error",
     "traceback": [
      "\u001b[1;31m---------------------------------------------------------------------------\u001b[0m",
      "\u001b[1;31mValueError\u001b[0m                                Traceback (most recent call last)",
      "\u001b[1;32m~\\AppData\\Local\\Temp\\ipykernel_6160\\963310575.py\u001b[0m in \u001b[0;36m?\u001b[1;34m()\u001b[0m\n\u001b[1;32m---> 27\u001b[1;33m \u001b[1;32mimport\u001b[0m \u001b[0mpandas\u001b[0m \u001b[1;32mas\u001b[0m \u001b[0mpd\u001b[0m\u001b[1;33m\u001b[0m\u001b[1;33m\u001b[0m\u001b[0m\n\u001b[0m\u001b[0;32m     28\u001b[0m \u001b[1;33m\u001b[0m\u001b[0m\n\u001b[0;32m     29\u001b[0m \u001b[0maf\u001b[0m \u001b[1;33m=\u001b[0m \u001b[0mpd\u001b[0m\u001b[1;33m.\u001b[0m\u001b[0mread_csv\u001b[0m\u001b[1;33m(\u001b[0m\u001b[1;34m\"final.csv\"\u001b[0m\u001b[1;33m)\u001b[0m\u001b[1;33m\u001b[0m\u001b[1;33m\u001b[0m\u001b[0m\n\u001b[0;32m     30\u001b[0m \u001b[0mbf\u001b[0m \u001b[1;33m=\u001b[0m \u001b[0mpd\u001b[0m\u001b[1;33m.\u001b[0m\u001b[0mread_csv\u001b[0m\u001b[1;33m(\u001b[0m\u001b[1;34m\"location.csv\"\u001b[0m\u001b[1;33m)\u001b[0m\u001b[1;33m\u001b[0m\u001b[1;33m\u001b[0m\u001b[0m\n",
      "\u001b[1;32m~\\AppData\\Local\\Temp\\ipykernel_6160\\963310575.py\u001b[0m in \u001b[0;36m?\u001b[1;34m(af, df, location)\u001b[0m\n\u001b[0;32m     19\u001b[0m \u001b[1;32mdef\u001b[0m \u001b[0mresult\u001b[0m\u001b[1;33m(\u001b[0m\u001b[0maf\u001b[0m\u001b[1;33m,\u001b[0m \u001b[0mdf\u001b[0m\u001b[1;33m,\u001b[0m \u001b[0mlocation\u001b[0m\u001b[1;33m)\u001b[0m\u001b[1;33m:\u001b[0m\u001b[1;33m\u001b[0m\u001b[1;33m\u001b[0m\u001b[0m\n\u001b[1;32m---> 20\u001b[1;33m     \u001b[1;32mif\u001b[0m \u001b[0maf\u001b[0m\u001b[1;33m[\u001b[0m\u001b[1;34m\"loc_id\"\u001b[0m\u001b[1;33m]\u001b[0m \u001b[1;33m==\u001b[0m \u001b[1;36m4\u001b[0m\u001b[1;33m:\u001b[0m\u001b[1;33m\u001b[0m\u001b[1;33m\u001b[0m\u001b[0m\n\u001b[0m\u001b[0;32m     21\u001b[0m         \u001b[1;32mif\u001b[0m \u001b[0maf\u001b[0m\u001b[1;33m[\u001b[0m\u001b[1;34m\"id\"\u001b[0m\u001b[1;33m]\u001b[0m \u001b[1;33m==\u001b[0m \u001b[0maf\u001b[0m\u001b[1;33m[\u001b[0m\u001b[1;34m\"loc_id\"\u001b[0m\u001b[1;33m]\u001b[0m\u001b[1;33m:\u001b[0m\u001b[1;33m\u001b[0m\u001b[1;33m\u001b[0m\u001b[0m\n\u001b[0;32m     22\u001b[0m             \u001b[0mlocation\u001b[0m\u001b[1;33m.\u001b[0m\u001b[0mappend\u001b[0m\u001b[1;33m(\u001b[0m\u001b[1;36m5\u001b[0m\u001b[1;33m)\u001b[0m\u001b[1;33m\u001b[0m\u001b[1;33m\u001b[0m\u001b[0m\n\u001b[0;32m     23\u001b[0m         \u001b[1;32melse\u001b[0m\u001b[1;33m:\u001b[0m\u001b[1;33m\u001b[0m\u001b[1;33m\u001b[0m\u001b[0m\n",
      "\u001b[1;32mc:\\Users\\hp\\AppData\\Local\\Programs\\Python\\Python39\\lib\\site-packages\\pandas\\core\\generic.py\u001b[0m in \u001b[0;36m?\u001b[1;34m(self)\u001b[0m\n\u001b[0;32m   1464\u001b[0m     \u001b[1;33m@\u001b[0m\u001b[0mfinal\u001b[0m\u001b[1;33m\u001b[0m\u001b[1;33m\u001b[0m\u001b[0m\n\u001b[0;32m   1465\u001b[0m     \u001b[1;32mdef\u001b[0m \u001b[0m__nonzero__\u001b[0m\u001b[1;33m(\u001b[0m\u001b[0mself\u001b[0m\u001b[1;33m)\u001b[0m \u001b[1;33m->\u001b[0m \u001b[0mNoReturn\u001b[0m\u001b[1;33m:\u001b[0m\u001b[1;33m\u001b[0m\u001b[1;33m\u001b[0m\u001b[0m\n\u001b[1;32m-> 1466\u001b[1;33m         raise ValueError(\n\u001b[0m\u001b[0;32m   1467\u001b[0m             \u001b[1;34mf\"The truth value of a {type(self).__name__} is ambiguous. \"\u001b[0m\u001b[1;33m\u001b[0m\u001b[1;33m\u001b[0m\u001b[0m\n\u001b[0;32m   1468\u001b[0m             \u001b[1;34m\"Use a.empty, a.bool(), a.item(), a.any() or a.all().\"\u001b[0m\u001b[1;33m\u001b[0m\u001b[1;33m\u001b[0m\u001b[0m\n\u001b[0;32m   1469\u001b[0m         )\n",
      "\u001b[1;31mValueError\u001b[0m: The truth value of a Series is ambiguous. Use a.empty, a.bool(), a.item(), a.any() or a.all()."
     ]
    }
   ],
   "source": [
    "import pandas as pd\n",
    "\n",
    "af = pd.read_csv(\"final.csv\")\n",
    "bf = pd.read_csv(\"location.csv\")\n",
    "cf = pd.read_csv(\"id.csv\")\n",
    "bf_columns = [\"id\", \"loc_name\", \"parent_id\"]\n",
    "cf_columns = [\"type\", \"name\"]\n",
    "df1 = bf[bf_columns]\n",
    "df2 = cf[cf_columns]\n",
    "merged_df = pd.concat([df1, df2], axis=1)\n",
    "merged_df.to_csv(\"merged.csv\", index=False)\n",
    "\n",
    "facility_area = []\n",
    "parent_location = []\n",
    "location = []\n",
    "\n",
    "df = pd.read_csv(\"merged.csv\")\n",
    "\n",
    "def result(af, df, location):\n",
    "    if af[\"loc_id\"] == 4:\n",
    "        if af[\"id\"] == af[\"loc_id\"]:\n",
    "            location.append(5)\n",
    "        else:\n",
    "            location.append(\"NA\")\n",
    "    return location\n",
    "\n",
    "result(af, df, location)\n",
    "print(location)\n"
   ]
  },
  {
   "cell_type": "code",
   "execution_count": 57,
   "metadata": {},
   "outputs": [
    {
     "name": "stdout",
     "output_type": "stream",
     "text": [
      "[]\n"
     ]
    }
   ],
   "source": [
    "import pandas as pd\n",
    "\n",
    "af = pd.read_csv(\"final.csv\")\n",
    "bf = pd.read_csv(\"location.csv\")\n",
    "cf = pd.read_csv(\"id.csv\")\n",
    "bf_columns = [\"id\", \"loc_name\", \"parent_id\"]\n",
    "cf_columns = [\"type\", \"name\"]\n",
    "df1 = bf[bf_columns]\n",
    "df2 = cf[cf_columns]\n",
    "merged_df = pd.concat([df1, df2], axis=1)\n",
    "merged_df.to_csv(\"merged.csv\", index=False)\n",
    "\n",
    "facility_area = []\n",
    "parent_location = []\n",
    "location = []\n",
    "\n",
    "df = pd.read_csv(\"merged.csv\")\n",
    "\n",
    "def result(af, df, location):\n",
    "    for index, row in df.iterrows():\n",
    "        if row[\"loc_id\"] == 4:\n",
    "            if row[\"id\"] == row[\"loc_id\"]:\n",
    "                location.append(5)\n",
    "            else:\n",
    "                location.append(\"NA\")\n",
    "    return location\n",
    "\n",
    "\n",
    "print(location)\n"
   ]
  },
  {
   "cell_type": "code",
   "execution_count": 11,
   "metadata": {},
   "outputs": [
    {
     "name": "stdout",
     "output_type": "stream",
     "text": [
      "MCB 1\n"
     ]
    }
   ],
   "source": [
    "import pandas as pd\n",
    "\n",
    "af = pd.read_csv(\"merged.csv\")\n",
    "cell_value = af.loc[3,\"loc_name\"]\n",
    "print(cell_value)\n"
   ]
  },
  {
   "cell_type": "code",
   "execution_count": 26,
   "metadata": {},
   "outputs": [],
   "source": [
    "import pandas as pd\n",
    "\n",
    "af = pd.read_csv(\"final.csv\")\n",
    "bf = pd.read_csv(\"location.csv\")\n",
    "cf = pd.read_csv(\"id.csv\")\n",
    "\n",
    "af_columns = [\"loc_id\"]\n",
    "bf_columns = [\"id\", \"loc_name\", \"parent_id\"]\n",
    "cf_columns = [\"type\", \"name\"]\n",
    "\n",
    "df1 = bf[bf_columns]\n",
    "df2 = cf[cf_columns]\n",
    "merged_df = pd.concat([df1, df2], axis=1)\n",
    "\n",
    "df3 = af[af_columns]\n",
    "merged_df2 = pd.concat([df3], axis=1)\n",
    "\n",
    "merged_df.to_csv(\"merged_table1.csv\", index=False)\n",
    "merged_df2.to_csv(\"merged_table1.csv\", index=False)\n",
    "\n",
    "\n",
    "# facility_area = []\n",
    "# parent_location = []\n",
    "# location = []\n",
    "\n",
    "# df = pd.read_csv(\"merged.csv\")\n",
    "\n",
    "# def result(df, location):\n",
    "#     for index, row in df.iterrows():\n",
    "#         x=df[\"loc_id\"]\n",
    "#         if row[\"loc_id\"] == row[\"loc_id\"]:\n",
    "#             cell_value = df.loc[3, \"loc_name\"]\n",
    "#             location.append(cell_value)\n",
    "#         else:\n",
    "#             location.append(\"NA\")\n",
    "#     return location\n",
    "\n",
    "# result( df, location)\n",
    "# print(location)\n"
   ]
  },
  {
   "cell_type": "code",
   "execution_count": 119,
   "metadata": {},
   "outputs": [
    {
     "name": "stdout",
     "output_type": "stream",
     "text": [
      "[]\n"
     ]
    }
   ],
   "source": [
    "import pandas as pd\n",
    "import pandas as pd\n",
    "import matplotlib.pyplot as plt\n",
    "import docx\n",
    "import csv\n",
    "import io\n",
    "\n",
    "af = pd.read_csv(\"final.csv\")\n",
    "bf = pd.read_csv(\"location.csv\")\n",
    "cf = pd.read_csv(\"id.csv\")\n",
    "\n",
    "df = pd.merge(bf, cf, on='id', how='left')\n",
    "df.to_csv(\"combined.csv\", index=False)\n",
    "\n",
    "location = []\n",
    "\n",
    "def result(af, df):\n",
    "\n",
    "        for index, row in df.iterrows():\n",
    "                if row[\"loc_id\"] == row[\"id\"]:\n",
    "                        cell_value = af.loc[ : \"loc_name\"]  \n",
    "                        location.append(cell_value)\n",
    "                        print(location)\n",
    "                else:\n",
    "                        location.append(\"NA\")\n",
    "                        print(location)\n",
    "      \n",
    "print(location)\n"
   ]
  },
  {
   "cell_type": "code",
   "execution_count": 108,
   "metadata": {},
   "outputs": [
    {
     "ename": "KeyError",
     "evalue": "'loc_id'",
     "output_type": "error",
     "traceback": [
      "\u001b[1;31m---------------------------------------------------------------------------\u001b[0m",
      "\u001b[1;31mKeyError\u001b[0m                                  Traceback (most recent call last)",
      "File \u001b[1;32mc:\\Users\\hp\\AppData\\Local\\Programs\\Python\\Python39\\lib\\site-packages\\pandas\\core\\indexes\\base.py:3652\u001b[0m, in \u001b[0;36mIndex.get_loc\u001b[1;34m(self, key)\u001b[0m\n\u001b[0;32m   3651\u001b[0m \u001b[39mtry\u001b[39;00m:\n\u001b[1;32m-> 3652\u001b[0m     \u001b[39mreturn\u001b[39;00m \u001b[39mself\u001b[39;49m\u001b[39m.\u001b[39;49m_engine\u001b[39m.\u001b[39;49mget_loc(casted_key)\n\u001b[0;32m   3653\u001b[0m \u001b[39mexcept\u001b[39;00m \u001b[39mKeyError\u001b[39;00m \u001b[39mas\u001b[39;00m err:\n",
      "File \u001b[1;32mc:\\Users\\hp\\AppData\\Local\\Programs\\Python\\Python39\\lib\\site-packages\\pandas\\_libs\\index.pyx:147\u001b[0m, in \u001b[0;36mpandas._libs.index.IndexEngine.get_loc\u001b[1;34m()\u001b[0m\n",
      "File \u001b[1;32mc:\\Users\\hp\\AppData\\Local\\Programs\\Python\\Python39\\lib\\site-packages\\pandas\\_libs\\index.pyx:176\u001b[0m, in \u001b[0;36mpandas._libs.index.IndexEngine.get_loc\u001b[1;34m()\u001b[0m\n",
      "File \u001b[1;32mpandas\\_libs\\hashtable_class_helper.pxi:7080\u001b[0m, in \u001b[0;36mpandas._libs.hashtable.PyObjectHashTable.get_item\u001b[1;34m()\u001b[0m\n",
      "File \u001b[1;32mpandas\\_libs\\hashtable_class_helper.pxi:7088\u001b[0m, in \u001b[0;36mpandas._libs.hashtable.PyObjectHashTable.get_item\u001b[1;34m()\u001b[0m\n",
      "\u001b[1;31mKeyError\u001b[0m: 'loc_id'",
      "\nThe above exception was the direct cause of the following exception:\n",
      "\u001b[1;31mKeyError\u001b[0m                                  Traceback (most recent call last)",
      "Cell \u001b[1;32mIn[108], line 102\u001b[0m\n\u001b[0;32m     98\u001b[0m     doc \u001b[39m=\u001b[39m insulation_table(df, doc)\n\u001b[0;32m    100\u001b[0m     doc\u001b[39m.\u001b[39msave(\u001b[39m\"\u001b[39m\u001b[39moutputTEST.docx\u001b[39m\u001b[39m\"\u001b[39m)\n\u001b[1;32m--> 102\u001b[0m main()\n",
      "Cell \u001b[1;32mIn[108], line 98\u001b[0m, in \u001b[0;36mmain\u001b[1;34m()\u001b[0m\n\u001b[0;32m     96\u001b[0m df \u001b[39m=\u001b[39m pd\u001b[39m.\u001b[39mread_csv(\u001b[39m\"\u001b[39m\u001b[39mcombined.csv\u001b[39m\u001b[39m\"\u001b[39m)\n\u001b[0;32m     97\u001b[0m doc \u001b[39m=\u001b[39m docx\u001b[39m.\u001b[39mDocument()\n\u001b[1;32m---> 98\u001b[0m doc \u001b[39m=\u001b[39m insulation_table(df, doc)\n\u001b[0;32m    100\u001b[0m doc\u001b[39m.\u001b[39msave(\u001b[39m\"\u001b[39m\u001b[39moutputTEST.docx\u001b[39m\u001b[39m\"\u001b[39m)\n",
      "Cell \u001b[1;32mIn[108], line 78\u001b[0m, in \u001b[0;36minsulation_table\u001b[1;34m(df, doc)\u001b[0m\n\u001b[0;32m     76\u001b[0m     \u001b[39mfor\u001b[39;00m j, value \u001b[39min\u001b[39;00m \u001b[39menumerate\u001b[39m(row[\u001b[39m1\u001b[39m:], start\u001b[39m=\u001b[39m\u001b[39m0\u001b[39m):\n\u001b[0;32m     77\u001b[0m         table\u001b[39m.\u001b[39mcell(i, j)\u001b[39m.\u001b[39mtext \u001b[39m=\u001b[39m \u001b[39mstr\u001b[39m(value)\n\u001b[1;32m---> 78\u001b[0m Results \u001b[39m=\u001b[39m insulationrang(num_rows)\n\u001b[0;32m     79\u001b[0m table\u001b[39m.\u001b[39mcell(\u001b[39m0\u001b[39m, num_cols)\u001b[39m.\u001b[39mtext \u001b[39m=\u001b[39m \u001b[39m\"\u001b[39m\u001b[39mlocation\u001b[39m\u001b[39m\"\u001b[39m\n\u001b[0;32m     80\u001b[0m table\u001b[39m.\u001b[39mcell(\u001b[39m0\u001b[39m, num_cols)\u001b[39m.\u001b[39mwidth \u001b[39m=\u001b[39m Inches(column_widths[num_cols])  \u001b[39m# Set width for the \"Result\" column\u001b[39;00m\n",
      "Cell \u001b[1;32mIn[108], line 33\u001b[0m, in \u001b[0;36minsulationrang\u001b[1;34m(length)\u001b[0m\n\u001b[0;32m     31\u001b[0m     loc_name \u001b[39m=\u001b[39m df\u001b[39m.\u001b[39miloc[row,\u001b[39m3\u001b[39m ]\n\u001b[0;32m     32\u001b[0m     loc_id\u001b[39m=\u001b[39m af\u001b[39m.\u001b[39miloc[row, \u001b[39m0\u001b[39m]\n\u001b[1;32m---> 33\u001b[0m     res2\u001b[39m.\u001b[39mappend(result(af,df))\n\u001b[0;32m     34\u001b[0m     \u001b[39mprint\u001b[39m(loc_name)\n\u001b[0;32m     35\u001b[0m \u001b[39mreturn\u001b[39;00m res2\n",
      "Cell \u001b[1;32mIn[108], line 21\u001b[0m, in \u001b[0;36mresult\u001b[1;34m(af, df)\u001b[0m\n\u001b[0;32m     19\u001b[0m location \u001b[39m=\u001b[39m []\n\u001b[0;32m     20\u001b[0m \u001b[39mfor\u001b[39;00m index, row \u001b[39min\u001b[39;00m df\u001b[39m.\u001b[39miterrows():\n\u001b[1;32m---> 21\u001b[0m     \u001b[39mif\u001b[39;00m row[\u001b[39m\"\u001b[39;49m\u001b[39mloc_id\u001b[39;49m\u001b[39m\"\u001b[39;49m] \u001b[39m==\u001b[39m row[\u001b[39m\"\u001b[39m\u001b[39mid\u001b[39m\u001b[39m\"\u001b[39m]:\n\u001b[0;32m     22\u001b[0m         cell_value \u001b[39m=\u001b[39m af\u001b[39m.\u001b[39mloc[af[\u001b[39m\"\u001b[39m\u001b[39mloc_id\u001b[39m\u001b[39m\"\u001b[39m] \u001b[39m==\u001b[39m row[\u001b[39m\"\u001b[39m\u001b[39mloc_id\u001b[39m\u001b[39m\"\u001b[39m], \u001b[39m\"\u001b[39m\u001b[39mloc_name\u001b[39m\u001b[39m\"\u001b[39m]\u001b[39m.\u001b[39miloc[\u001b[39m0\u001b[39m]\n\u001b[0;32m     23\u001b[0m         location\u001b[39m.\u001b[39mappend(cell_value)\n",
      "File \u001b[1;32mc:\\Users\\hp\\AppData\\Local\\Programs\\Python\\Python39\\lib\\site-packages\\pandas\\core\\series.py:1007\u001b[0m, in \u001b[0;36mSeries.__getitem__\u001b[1;34m(self, key)\u001b[0m\n\u001b[0;32m   1004\u001b[0m     \u001b[39mreturn\u001b[39;00m \u001b[39mself\u001b[39m\u001b[39m.\u001b[39m_values[key]\n\u001b[0;32m   1006\u001b[0m \u001b[39melif\u001b[39;00m key_is_scalar:\n\u001b[1;32m-> 1007\u001b[0m     \u001b[39mreturn\u001b[39;00m \u001b[39mself\u001b[39;49m\u001b[39m.\u001b[39;49m_get_value(key)\n\u001b[0;32m   1009\u001b[0m \u001b[39mif\u001b[39;00m is_hashable(key):\n\u001b[0;32m   1010\u001b[0m     \u001b[39m# Otherwise index.get_value will raise InvalidIndexError\u001b[39;00m\n\u001b[0;32m   1011\u001b[0m     \u001b[39mtry\u001b[39;00m:\n\u001b[0;32m   1012\u001b[0m         \u001b[39m# For labels that don't resolve as scalars like tuples and frozensets\u001b[39;00m\n",
      "File \u001b[1;32mc:\\Users\\hp\\AppData\\Local\\Programs\\Python\\Python39\\lib\\site-packages\\pandas\\core\\series.py:1116\u001b[0m, in \u001b[0;36mSeries._get_value\u001b[1;34m(self, label, takeable)\u001b[0m\n\u001b[0;32m   1113\u001b[0m     \u001b[39mreturn\u001b[39;00m \u001b[39mself\u001b[39m\u001b[39m.\u001b[39m_values[label]\n\u001b[0;32m   1115\u001b[0m \u001b[39m# Similar to Index.get_value, but we do not fall back to positional\u001b[39;00m\n\u001b[1;32m-> 1116\u001b[0m loc \u001b[39m=\u001b[39m \u001b[39mself\u001b[39;49m\u001b[39m.\u001b[39;49mindex\u001b[39m.\u001b[39;49mget_loc(label)\n\u001b[0;32m   1118\u001b[0m \u001b[39mif\u001b[39;00m is_integer(loc):\n\u001b[0;32m   1119\u001b[0m     \u001b[39mreturn\u001b[39;00m \u001b[39mself\u001b[39m\u001b[39m.\u001b[39m_values[loc]\n",
      "File \u001b[1;32mc:\\Users\\hp\\AppData\\Local\\Programs\\Python\\Python39\\lib\\site-packages\\pandas\\core\\indexes\\base.py:3654\u001b[0m, in \u001b[0;36mIndex.get_loc\u001b[1;34m(self, key)\u001b[0m\n\u001b[0;32m   3652\u001b[0m     \u001b[39mreturn\u001b[39;00m \u001b[39mself\u001b[39m\u001b[39m.\u001b[39m_engine\u001b[39m.\u001b[39mget_loc(casted_key)\n\u001b[0;32m   3653\u001b[0m \u001b[39mexcept\u001b[39;00m \u001b[39mKeyError\u001b[39;00m \u001b[39mas\u001b[39;00m err:\n\u001b[1;32m-> 3654\u001b[0m     \u001b[39mraise\u001b[39;00m \u001b[39mKeyError\u001b[39;00m(key) \u001b[39mfrom\u001b[39;00m \u001b[39merr\u001b[39;00m\n\u001b[0;32m   3655\u001b[0m \u001b[39mexcept\u001b[39;00m \u001b[39mTypeError\u001b[39;00m:\n\u001b[0;32m   3656\u001b[0m     \u001b[39m# If we have a listlike key, _check_indexing_error will raise\u001b[39;00m\n\u001b[0;32m   3657\u001b[0m     \u001b[39m#  InvalidIndexError. Otherwise we fall through and re-raise\u001b[39;00m\n\u001b[0;32m   3658\u001b[0m     \u001b[39m#  the TypeError.\u001b[39;00m\n\u001b[0;32m   3659\u001b[0m     \u001b[39mself\u001b[39m\u001b[39m.\u001b[39m_check_indexing_error(key)\n",
      "\u001b[1;31mKeyError\u001b[0m: 'loc_id'"
     ]
    }
   ],
   "source": [
    "import pandas as pd\n",
    "import pandas as pd\n",
    "import matplotlib.pyplot as plt\n",
    "import docx\n",
    "import csv\n",
    "import io\n",
    "from docx.shared import Inches\n",
    "from docx.shared import Pt\n",
    "\n",
    "\n",
    "af = pd.read_csv(\"final.csv\")\n",
    "bf = pd.read_csv(\"location.csv\")\n",
    "cf = pd.read_csv(\"id.csv\")\n",
    "\n",
    "df = pd.merge(bf, cf, on='id', how='inner')\n",
    "df.to_csv(\"combined.csv\", index=False)\n",
    "\n",
    "def result(af, df):\n",
    "    location = []\n",
    "    for index, row in df.iterrows():\n",
    "        if row[\"loc_id\"] == row[\"id\"]:\n",
    "            cell_value = af.loc[af[\"loc_id\"] == row[\"loc_id\"], \"loc_name\"].iloc[0]\n",
    "            location.append(cell_value)\n",
    "        else:\n",
    "            location.append(\"NA\")\n",
    "    \n",
    "def insulationrang(length):\n",
    "    res2 = []\n",
    "    for row in range(length):  # Adjusted the range to start from 0\n",
    "        id= df.iloc[row, 0]\n",
    "        loc_name = df.iloc[row,3 ]\n",
    "        loc_id= af.iloc[row, 0]\n",
    "        res2.append(result(af,df))\n",
    "        print(loc_name)\n",
    "    return res2\n",
    "\n",
    "def insulation_table(df, doc):\n",
    "    table_data = df.iloc[:, 0:]\n",
    "    num_rows, num_cols = table_data.shape\n",
    "    table = doc.add_table(rows=num_rows + 1, cols=num_cols + 1)  # Add +1 for the \"Result\" column\n",
    "    table.style = \"Table Grid\"\n",
    "    table.autofit = False\n",
    "    column_widths = {\n",
    "        0: 0.2,\n",
    "        1: 0.51,\n",
    "        2: 0.55,\n",
    "        3: 0.54,\n",
    "        4: 0.38,\n",
    "        5: 0.4,\n",
    "        6: 0.5,\n",
    "        7: 0.48,\n",
    "        8: 0.5,\n",
    "        9: 0.43,\n",
    "        10: 0.4,\n",
    "        11: 0.4,\n",
    "        12: 0.4,\n",
    "        13: 0.4,\n",
    "        14: 0.51,\n",
    "        15: 0.55,\n",
    "        16: 0.54,\n",
    "        17: 0.38,\n",
    "        18: 0.4,\n",
    "        19: 0.5,\n",
    "        20: 0.48,\n",
    "        21: 0.5,\n",
    "        22: 0.43,\n",
    "        23: 0.4,\n",
    "        \n",
    "\n",
    "        num_cols: 0.8  # Width for the \"Result\" column\n",
    "    }\n",
    "    for j, col in enumerate(table_data.columns):\n",
    "        table.cell(0, j).text = col\n",
    "        table.cell(0, j).width = Inches(column_widths[j])\n",
    "    for i, row in enumerate(table_data.itertuples(), start=1):\n",
    "        for j, value in enumerate(row[1:], start=0):\n",
    "            table.cell(i, j).text = str(value)\n",
    "    Results = insulationrang(num_rows)\n",
    "    table.cell(0, num_cols).text = \"location\"\n",
    "    table.cell(0, num_cols).width = Inches(column_widths[num_cols])  # Set width for the \"Result\" column\n",
    "    for i in range(0, num_rows):\n",
    "        res_index = i - 1\n",
    "        table.cell(i + 1, num_cols).text = Results[res_index]\n",
    "    font_size = 6.5\n",
    "\n",
    "    for row in table.rows:\n",
    "        for cell in row.cells:\n",
    "            for paragraph in cell.paragraphs:\n",
    "                for run in paragraph.runs:\n",
    "                    run.font.size = Pt(font_size)\n",
    "\n",
    "    return doc\n",
    "\n",
    "\n",
    "def main():\n",
    "    df = pd.read_csv(\"combined.csv\")\n",
    "    doc = docx.Document()\n",
    "    doc = insulation_table(df, doc)\n",
    "  \n",
    "    doc.save(\"outputTEST.docx\")\n",
    "\n",
    "main()\n"
   ]
  },
  {
   "cell_type": "code",
   "execution_count": null,
   "metadata": {},
   "outputs": [],
   "source": [
    "import csv\n",
    "\n",
    "\n",
    "def find_loc_name(loc_id):\n",
    "    with open(\"your_file.csv\", \"r\") as file:\n",
    "        reader = csv.DictReader(file)\n",
    "        locations = {row[\"loc_id\"]: row for row in reader}\n",
    "\n",
    "    while loc_id in locations:\n",
    "        loc_data = locations[loc_id]\n",
    "        loc_name = loc_data[\"loc_name\"]\n",
    "        granularity = int(loc_data[\"granularity\"])\n",
    "        loc_type = loc_data[\"type\"]\n",
    "\n",
    "        if granularity == 1:\n",
    "            if loc_type != \"fac_area\":\n",
    "                return \"Facility Area\"  # Return \"Facility Area\" for granularity 1 and loc_type not equal to 'fac_area'\n",
    "            else:\n",
    "                return loc_name  # Return the loc_name for granularity 1 and loc_type equal to 'fac_area'\n",
    "        else:\n",
    "            print(\n",
    "                    \"Parent Location:\", loc_name\n",
    "                )  # Print \"Parent Location\" followed by the loc_name for other loc_ids\n",
    "            loc_id = loc_data[\"parent_id\"]  # Update loc_id to parent_id\n",
    "\n",
    "    return None  # Return None if no loc_name with the specified conditions is found\n",
    "\n",
    "\n",
    "# Example usage\n",
    "id_to_check = \"4\"  # Replace with the desired loc_id\n",
    "result = find_loc_name(id_to_check)\n",
    "if result:\n",
    "    print(\"Facility area:\", result)\n",
    "else:\n",
    "    print(\"No loc_name found with the specified conditions.\")"
   ]
  },
  {
   "cell_type": "code",
   "execution_count": null,
   "metadata": {},
   "outputs": [],
   "source": [
    "def find_loc_name(loc_id):\n",
    "    with open(\"example.csv\", \"r\") as file:\n",
    "        reader = csv.DictReader(file)\n",
    "        locations = {row[\"loc_id\"]: row for row in reader}\n",
    "\n",
    "    while loc_id in locations:\n",
    "        loc_data = locations[loc_id]\n",
    "        granularity = int(loc_data[\"granularity\"])\n",
    "        loc_type = loc_data[\"type\"]\n",
    "        if granularity == 1:\n",
    "            if loc_type != \"fac_area\":\n",
    "                parent_id = loc_data[\"parent_id\"]\n",
    "                return locations[parent_id][\"loc_name\"]\n",
    "            else:\n",
    "                return loc_data[\"loc_name\"]\n",
    "        else:\n",
    "            loc_id = loc_data[\"parent_id\"]\n",
    "\n",
    "    return None\n",
    "\n",
    "\n",
    "id_to_check = \"13\"\n",
    "result = find_loc_name(id_to_check)\n",
    "if result:\n",
    "    print(f\"loc_name: {result}\")"
   ]
  }
 ],
 "metadata": {
  "kernelspec": {
   "display_name": "Python 3",
   "language": "python",
   "name": "python3"
  },
  "language_info": {
   "codemirror_mode": {
    "name": "ipython",
    "version": 3
   },
   "file_extension": ".py",
   "mimetype": "text/x-python",
   "name": "python",
   "nbconvert_exporter": "python",
   "pygments_lexer": "ipython3",
   "version": "3.9.13"
  },
  "orig_nbformat": 4
 },
 "nbformat": 4,
 "nbformat_minor": 2
}
